{
 "cells": [
  {
   "cell_type": "code",
   "execution_count": 1,
   "metadata": {},
   "outputs": [],
   "source": [
    "import numpy as np            #works well for randomized trials\n",
    "def P1_win_prob_weighted_coin_game(num_games, prob_heads=.5): #of games to be played and prob that a flip will result in head\n",
    "  player_one_wins = 0 \n",
    "  for n in range(0,num_games):      #simulations\n",
    "    num_flips = 0 \n",
    "    win = 0\n",
    "    while win == 0: \n",
    "      turn = np.random.uniform(0,1) #coin flip value randomly selected between 0 and 1\n",
    "      num_flips += 1 \n",
    "      if turn <= prob_heads:  #winning condition met?\n",
    "        if num_flips % 2 != 0: #check how many times the coin has been flipped\n",
    "          player_one_wins += 1 \n",
    "        win += 1 #break off the game and start new\n",
    "  return float(player_one_wins)/float(num_games)\n"
   ]
  },
  {
   "cell_type": "markdown",
   "metadata": {},
   "source": [
    "If the randomly chosen “turn” value is less than or equal to set “prob_heads” value, \n",
    "it's a winning condition because\n",
    "if the probability of flipping a heads is 0.5, than 50% of the values between 0 and 1 \n",
    "could be interpreted as a flip of heads (e.g., all of the values between 0.5 and 1).\n",
    "we check how many times the coin has been flipped as player 1 always has the first flip, we know that an odd number of flips means that player 1 was the last player to go, and would therefore be the winner. \n",
    "\n"
   ]
  },
  {
   "cell_type": "code",
   "execution_count": 6,
   "metadata": {},
   "outputs": [
    {
     "data": {
      "text/plain": [
       "0.6736"
      ]
     },
     "execution_count": 6,
     "metadata": {},
     "output_type": "execute_result"
    }
   ],
   "source": [
    "P1_win_prob_weighted_coin_game(10000, prob_heads=.5)"
   ]
  },
  {
   "cell_type": "code",
   "execution_count": 7,
   "metadata": {},
   "outputs": [],
   "source": [
    "#player 1 would win approx 67% of time on a fair coin"
   ]
  },
  {
   "cell_type": "code",
   "execution_count": 9,
   "metadata": {},
   "outputs": [
    {
     "data": {
      "text/plain": [
       "0.66552"
      ]
     },
     "execution_count": 9,
     "metadata": {},
     "output_type": "execute_result"
    }
   ],
   "source": [
    "P1_win_prob_weighted_coin_game(50000, prob_heads=.5)     #even with more simulations result is pretty close"
   ]
  },
  {
   "cell_type": "code",
   "execution_count": 10,
   "metadata": {},
   "outputs": [
    {
     "data": {
      "text/plain": [
       "0.52892"
      ]
     },
     "execution_count": 10,
     "metadata": {},
     "output_type": "execute_result"
    }
   ],
   "source": [
    "P1_win_prob_weighted_coin_game(50000, prob_heads=.1)  #almost fair with 10% heads chance"
   ]
  },
  {
   "cell_type": "code",
   "execution_count": 12,
   "metadata": {},
   "outputs": [
    {
     "data": {
      "text/plain": [
       "0.502"
      ]
     },
     "execution_count": 12,
     "metadata": {},
     "output_type": "execute_result"
    }
   ],
   "source": [
    "P1_win_prob_weighted_coin_game(10000, prob_heads=.01)    # 1% heads chance makes the game fair for both players"
   ]
  },
  {
   "cell_type": "code",
   "execution_count": null,
   "metadata": {},
   "outputs": [],
   "source": []
  }
 ],
 "metadata": {
  "kernelspec": {
   "display_name": "Python 3",
   "language": "python",
   "name": "python3"
  },
  "language_info": {
   "codemirror_mode": {
    "name": "ipython",
    "version": 3
   },
   "file_extension": ".py",
   "mimetype": "text/x-python",
   "name": "python",
   "nbconvert_exporter": "python",
   "pygments_lexer": "ipython3",
   "version": "3.7.3"
  }
 },
 "nbformat": 4,
 "nbformat_minor": 2
}
